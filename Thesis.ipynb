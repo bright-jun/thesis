{
 "cells": [
  {
   "cell_type": "code",
   "execution_count": 1,
   "metadata": {},
   "outputs": [],
   "source": [
    "import pandas as pd\n",
    "import numpy as np\n",
    "import tensorflow as tf\n",
    "import sklearn\n",
    "from sklearn.linear_model import LogisticRegression\n",
    "from sklearn.utils import shuffle\n",
    "import sklearn.metrics"
   ]
  },
  {
   "cell_type": "code",
   "execution_count": 93,
   "metadata": {},
   "outputs": [],
   "source": [
    "def analysis(O_input, X_input, grouped):\n",
    "    print(\"analysize ... {}, {}.csv\".format(O_input, X_input))\n",
    "    O = pd.read_csv(\"{}.csv\".format(O_input))\n",
    "    X = pd.read_csv(\"{}.csv\".format(X_input))\n",
    "   \n",
    "    data = O.append(X)\n",
    "    \n",
    "    data.describe()\n",
    "    #data\n",
    "    if grouped == False:\n",
    "        X=data[['성별코드','연령대코드(5세단위)','시력(좌)','시력(우)','청력(좌)','청력(우)','수축기혈압','이완기혈압','식전혈당(공복혈당)','총콜레스테롤','트리글리세라이드','혈색소','요단백','혈청크레아티닌','(혈청지오티)AST','(혈청지오티)ALT','감마지티피','흡연상태','음주여부','구강검진 수검여부','치석','whtr']]\n",
    "    else:\n",
    "        X=data[['성별코드','연령대코드(5세단위)','시력(좌)','시력(우)','청력(좌)','청력(우)','혈압','식전혈당(공복혈당)','총콜레스테롤','트리글리세라이드','혈색소','요단백','혈청크레아티닌','(혈청지오티)AST','(혈청지오티)ALT','감마지티피','흡연상태','음주여부','구강검진 수검여부','치석','whtr']]\n",
    "    Y=data[['고지혈증']]\n",
    "\n",
    "    #X\n",
    "    X_train, X_test, Y_train, Y_test = sklearn.model_selection.train_test_split(X, Y, test_size = 0.2)\n",
    "\n",
    "    clf = LogisticRegression(random_state=0, solver='lbfgs', multi_class='multinomial').fit(X_train, Y_train)\n",
    "    #clf.predict(X_train)\n",
    "\n",
    "    def Accuracy(label, pred):\n",
    "        Acc = None\n",
    "        correct = 0\n",
    "        for i in range(len(label)):\n",
    "            if label[i] == pred[i]:\n",
    "                correct += 1\n",
    "        Acc = correct / len(label)\n",
    "        return Acc\n",
    "\n",
    "    def Precision(label, pred):\n",
    "        precision = None\n",
    "        TP = 0\n",
    "        FP = 0\n",
    "        for i in range(len(label)):\n",
    "            if pred[i] == 1:\n",
    "                if label[i] == 1:\n",
    "                    TP += 1\n",
    "                else:\n",
    "                    FP += 1\n",
    "        precision = TP / (TP + FP)\n",
    "        return precision\n",
    "\n",
    "    def Recall(label, pred):\n",
    "        recall = None\n",
    "        TP = 0\n",
    "        FN = 0\n",
    "        for i in range(len(label)):\n",
    "            if label[i] == 1:\n",
    "                if pred[i] == 1:\n",
    "                    TP += 1\n",
    "                else:\n",
    "                    FN += 1\n",
    "        recall = TP / (TP + FN)\n",
    "        return recall\n",
    "\n",
    "    accuracy = Accuracy(Y_test['고지혈증'].values,clf.predict(X_test))\n",
    "\n",
    "    sklearn.metrics.accuracy_score(Y_test['고지혈증'].values,clf.predict(X_test))\n",
    "\n",
    "    precision = Precision(Y_test['고지혈증'].values,clf.predict(X_test))\n",
    "\n",
    "    sklearn.metrics.precision_score(Y_test['고지혈증'].values,clf.predict(X_test))\n",
    "\n",
    "    recall = Recall(Y_test['고지혈증'].values,clf.predict(X_test))\n",
    "\n",
    "    sklearn.metrics.recall_score(Y_test['고지혈증'].values,clf.predict(X_test))\n",
    "\n",
    "    def DCG(label, hypo, at=10):\n",
    "        # ========================= EDIT HERE =========================\n",
    "        dcg = None\n",
    "        dcg = []\n",
    "        temp_DCG = []\n",
    "        temp_index = []\n",
    "\n",
    "        #hypo 에 따라 정렬\n",
    "        temp_index = sorted(range(len(hypo)), reverse=True, key=lambda k: hypo[k])\n",
    "        temp_label = label[temp_index]\n",
    "\n",
    "        for j in range(at):\n",
    "            temp_DCG.append((1/np.log2(j+2)) * temp_label[j])\n",
    "        #print(\"temp_DCG:\", end=\"\")\n",
    "        #print(temp_DCG)\n",
    "\n",
    "        dcg=sum(temp_DCG)\n",
    "    # =============================================================\n",
    "        return dcg\n",
    "\n",
    "    def IDCG(label, hypo, at=10):\n",
    "        # ========================= EDIT HERE =========================\n",
    "        idcg = None\n",
    "        idcg = []\n",
    "        temp_IDCG = []\n",
    "\n",
    "        # ideal 하게 정렬\n",
    "        temp_label = sorted(label,reverse=True)\n",
    "\n",
    "        for j in range(at):\n",
    "            temp_IDCG.append((1 / np.log2(j + 2)) * temp_label[j])\n",
    "        #print(\"temp_IDCG:\", end=\"\")\n",
    "        #print(temp_IDCG)\n",
    "\n",
    "        idcg=sum(temp_IDCG)\n",
    "        # =============================================================\n",
    "        return idcg\n",
    "\n",
    "    dcg = DCG(Y_test['고지혈증'].values,clf.predict_proba(X_test)[:,0],at = 100)\n",
    "\n",
    "    idcg = IDCG(Y_test['고지혈증'].values,clf.predict_proba(X_test)[:,0],at = 100)\n",
    "\n",
    "    ndcg = dcg/idcg\n",
    "\n",
    "    ndcg\n",
    "\n",
    "    print(\"accuracy : {:.4f}\".format(accuracy))\n",
    "    print(\"precision : {:.4f}\".format(precision))\n",
    "    print(\"recall : {:.4f}\".format(recall))\n",
    "    print(\"ndcg : {:.4f}\".format(ndcg))"
   ]
  },
  {
   "cell_type": "code",
   "execution_count": 96,
   "metadata": {},
   "outputs": [
    {
     "name": "stdout",
     "output_type": "stream",
     "text": [
      "analysize ... 5000_1, 10000_0.csv\n"
     ]
    },
    {
     "name": "stderr",
     "output_type": "stream",
     "text": [
      "C:\\Users\\brigh\\Anaconda3\\lib\\site-packages\\sklearn\\utils\\validation.py:724: DataConversionWarning: A column-vector y was passed when a 1d array was expected. Please change the shape of y to (n_samples, ), for example using ravel().\n",
      "  y = column_or_1d(y, warn=True)\n"
     ]
    },
    {
     "name": "stdout",
     "output_type": "stream",
     "text": [
      "accuracy : 0.7433\n",
      "precision : 0.6848\n",
      "recall : 0.3986\n",
      "ndcg : 0.1173\n"
     ]
    },
    {
     "name": "stderr",
     "output_type": "stream",
     "text": [
      "C:\\Users\\brigh\\Anaconda3\\lib\\site-packages\\sklearn\\linear_model\\logistic.py:947: ConvergenceWarning: lbfgs failed to converge. Increase the number of iterations.\n",
      "  \"of iterations.\", ConvergenceWarning)\n"
     ]
    }
   ],
   "source": [
    "analysis(\"5000_1\",\"10000_0\",False)"
   ]
  },
  {
   "cell_type": "code",
   "execution_count": 97,
   "metadata": {
    "scrolled": false
   },
   "outputs": [
    {
     "name": "stdout",
     "output_type": "stream",
     "text": [
      "analysize ... g_5000_1, g_10000_0.csv\n"
     ]
    },
    {
     "name": "stderr",
     "output_type": "stream",
     "text": [
      "C:\\Users\\brigh\\Anaconda3\\lib\\site-packages\\sklearn\\utils\\validation.py:724: DataConversionWarning: A column-vector y was passed when a 1d array was expected. Please change the shape of y to (n_samples, ), for example using ravel().\n",
      "  y = column_or_1d(y, warn=True)\n"
     ]
    },
    {
     "name": "stdout",
     "output_type": "stream",
     "text": [
      "accuracy : 0.7447\n",
      "precision : 0.6760\n",
      "recall : 0.4194\n",
      "ndcg : 0.0319\n"
     ]
    },
    {
     "name": "stderr",
     "output_type": "stream",
     "text": [
      "C:\\Users\\brigh\\Anaconda3\\lib\\site-packages\\sklearn\\linear_model\\logistic.py:947: ConvergenceWarning: lbfgs failed to converge. Increase the number of iterations.\n",
      "  \"of iterations.\", ConvergenceWarning)\n"
     ]
    }
   ],
   "source": [
    "analysis(\"g_5000_1\",\"g_10000_0\",True)"
   ]
  },
  {
   "cell_type": "code",
   "execution_count": 99,
   "metadata": {},
   "outputs": [],
   "source": [
    "def do_group(X_num, Y_num):\n",
    "    analysis(\"{}_1\".format(str(X_num)), \"{}_0\".format(str(Y_num)),False)\n",
    "    analysis(\"g_{}_1\".format(str(X_num)), \"g_{}_0\".format(str(Y_num)),True)    "
   ]
  },
  {
   "cell_type": "code",
   "execution_count": 167,
   "metadata": {},
   "outputs": [
    {
     "name": "stdout",
     "output_type": "stream",
     "text": [
      "analysize ... 10000_1, 10000_0.csv\n"
     ]
    },
    {
     "name": "stderr",
     "output_type": "stream",
     "text": [
      "C:\\Users\\brigh\\Anaconda3\\lib\\site-packages\\sklearn\\utils\\validation.py:724: DataConversionWarning: A column-vector y was passed when a 1d array was expected. Please change the shape of y to (n_samples, ), for example using ravel().\n",
      "  y = column_or_1d(y, warn=True)\n",
      "C:\\Users\\brigh\\Anaconda3\\lib\\site-packages\\sklearn\\linear_model\\logistic.py:947: ConvergenceWarning: lbfgs failed to converge. Increase the number of iterations.\n",
      "  \"of iterations.\", ConvergenceWarning)\n",
      "C:\\Users\\brigh\\Anaconda3\\lib\\site-packages\\sklearn\\utils\\validation.py:724: DataConversionWarning: A column-vector y was passed when a 1d array was expected. Please change the shape of y to (n_samples, ), for example using ravel().\n",
      "  y = column_or_1d(y, warn=True)\n"
     ]
    },
    {
     "name": "stdout",
     "output_type": "stream",
     "text": [
      "accuracy : 0.7087\n",
      "precision : 0.7278\n",
      "recall : 0.6725\n",
      "ndcg : 0.0995\n",
      "analysize ... g_10000_1, g_10000_0.csv\n",
      "accuracy : 0.7133\n",
      "precision : 0.7236\n",
      "recall : 0.6892\n",
      "ndcg : 0.0157\n"
     ]
    },
    {
     "name": "stderr",
     "output_type": "stream",
     "text": [
      "C:\\Users\\brigh\\Anaconda3\\lib\\site-packages\\sklearn\\linear_model\\logistic.py:947: ConvergenceWarning: lbfgs failed to converge. Increase the number of iterations.\n",
      "  \"of iterations.\", ConvergenceWarning)\n"
     ]
    }
   ],
   "source": [
    "do_group(10000,10000)"
   ]
  }
 ],
 "metadata": {
  "kernelspec": {
   "display_name": "Python 3",
   "language": "python",
   "name": "python3"
  },
  "language_info": {
   "codemirror_mode": {
    "name": "ipython",
    "version": 3
   },
   "file_extension": ".py",
   "mimetype": "text/x-python",
   "name": "python",
   "nbconvert_exporter": "python",
   "pygments_lexer": "ipython3",
   "version": "3.7.4"
  }
 },
 "nbformat": 4,
 "nbformat_minor": 2
}
